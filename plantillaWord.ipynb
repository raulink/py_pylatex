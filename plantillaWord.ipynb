{
 "cells": [
  {
   "cell_type": "code",
   "execution_count": 1,
   "metadata": {},
   "outputs": [
    {
     "data": {
      "text/plain": [
       "'Plantilla_Cornell_Notas.docx'"
      ]
     },
     "execution_count": 1,
     "metadata": {},
     "output_type": "execute_result"
    }
   ],
   "source": [
    "from docx import Document\n",
    "from docx.shared import Inches\n",
    "\n",
    "# Crear un nuevo documento de Word\n",
    "doc = Document()\n",
    "\n",
    "# Título del documento\n",
    "doc.add_heading('Método Cornell para Tomar Apuntes', 0)\n",
    "\n",
    "# Crear una tabla con 2 columnas y 2 filas\n",
    "table = doc.add_table(rows=2, cols=2)\n",
    "table.style = 'Table Grid'\n",
    "\n",
    "# Ajustar el tamaño de las celdas\n",
    "table.cell(0, 0).width = Inches(1.5)  # Columna para palabras clave (aprox 25% del ancho)\n",
    "table.cell(0, 1).width = Inches(4.5)  # Columna para notas (aprox 75% del ancho)\n",
    "\n",
    "# Agregar títulos en la tabla\n",
    "table.cell(0, 0).text = 'Palabras clave / Preguntas'\n",
    "table.cell(0, 1).text = 'Notas'\n",
    "\n",
    "# Fusionar la segunda fila para el resumen\n",
    "a = table.cell(1, 0)\n",
    "b = table.cell(1, 1)\n",
    "a.merge(b)\n",
    "\n",
    "# Texto para el resumen\n",
    "table.cell(1, 0).text = 'Resumen'\n",
    "\n",
    "# Guardar el archivo\n",
    "file_path = 'Plantilla_Cornell_Notas.docx'\n",
    "doc.save(file_path)\n",
    "\n",
    "file_path\n"
   ]
  },
  {
   "cell_type": "code",
   "execution_count": 1,
   "metadata": {},
   "outputs": [],
   "source": [
    "from pylatex import Command, Document, Section, Subsection\n",
    "from pylatex.utils import NoEscape, italic\n",
    "\n",
    "\n",
    "def fill_document(doc):\n",
    "    \"\"\"Add a section, a subsection and some text to the document.\n",
    "\n",
    "    :param doc: the document\n",
    "    :type doc: :class:`pylatex.document.Document` instance\n",
    "    \"\"\"\n",
    "    with doc.create(Section(\"A section\")):\n",
    "        doc.append(\"Some regular text and some \")\n",
    "        doc.append(italic(\"italic text. \"))\n",
    "\n",
    "        with doc.create(Subsection(\"A subsection\")):\n",
    "            doc.append(\"Also some crazy characters: $&#{}\")\n",
    "\n",
    "\n",
    "if __name__ == \"__main__\":\n",
    "    # Basic document\n",
    "    doc = Document(\"basic\")\n",
    "    fill_document(doc)\n",
    "\n",
    "    doc.generate_pdf(clean_tex=False)\n",
    "    doc.generate_tex()\n",
    "\n",
    "    # Document with `\\maketitle` command activated\n",
    "    doc = Document()\n",
    "\n",
    "    doc.preamble.append(Command(\"title\", \"Awesome Title\"))\n",
    "    doc.preamble.append(Command(\"author\", \"Anonymous author\"))\n",
    "    doc.preamble.append(Command(\"date\", NoEscape(r\"\\today\")))\n",
    "    doc.append(NoEscape(r\"\\maketitle\"))\n",
    "\n",
    "    fill_document(doc)\n",
    "\n",
    "    doc.generate_pdf(\"basic_maketitle\", clean_tex=False)\n",
    "\n",
    "    # Add stuff to the document\n",
    "    with doc.create(Section(\"A second section\")):\n",
    "        doc.append(\"Some text.\")\n",
    "\n",
    "    doc.generate_pdf(\"basic_maketitle2\", clean_tex=False)\n",
    "    tex = doc.dumps()  # The document as string in LaTeX syntax\n"
   ]
  }
 ],
 "metadata": {
  "kernelspec": {
   "display_name": "base",
   "language": "python",
   "name": "python3"
  },
  "language_info": {
   "codemirror_mode": {
    "name": "ipython",
    "version": 3
   },
   "file_extension": ".py",
   "mimetype": "text/x-python",
   "name": "python",
   "nbconvert_exporter": "python",
   "pygments_lexer": "ipython3",
   "version": "3.11.7"
  }
 },
 "nbformat": 4,
 "nbformat_minor": 2
}
